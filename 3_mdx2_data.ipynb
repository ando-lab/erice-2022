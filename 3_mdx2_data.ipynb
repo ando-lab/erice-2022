{
 "cells": [
  {
   "cell_type": "markdown",
   "id": "02bca98c-5dbc-44b7-bcd0-840be0a419d2",
   "metadata": {},
   "source": [
    "# Processing diffraction images with *mdx2*\n",
    "\n",
    "In this tutorial, we will:\n",
    "\n",
    "- Import diffraction images\n",
    "- Plot a rocking curve\n",
    "- Estimate background scattering\n",
    "- Design an empirical Bragg-peak mask\n",
    "\n",
    "Requirements:\n",
    "- `geometry.nxs` from the *mdx2* geometry tutorial\n",
    "- `refined_1_60.expt` and `background.expt` from the *dials* indexing tutorial\n",
    "\n",
    "Imports (run this before you do anything else)"
   ]
  },
  {
   "cell_type": "code",
   "execution_count": 5,
   "id": "2bcc3a4b-8916-486b-ad0f-d8d7cbca31ee",
   "metadata": {},
   "outputs": [],
   "source": [
    "# for plotting the rocking curve\n",
    "from nexusformat.nexus import nxload"
   ]
  },
  {
   "cell_type": "markdown",
   "id": "d177a590-cad0-446b-8700-675033c5dbff",
   "metadata": {},
   "source": [
    "## 1) Import diffraction images for *mdx2*\n",
    "\n",
    "The first step is to copy the image data into a NeXus file. There are two reasons to do this:\n",
    "1. So that data processing routines don't need to know about detector image formats\n",
    "2. To take advantage of data compression schemes. The data are \"chunked\" in 3D so that we can quickly load an image stack around a region of interest. This feature is used below to generate rocking curves.\n",
    "\n",
    "### *mdx2.import_data*"
   ]
  },
  {
   "cell_type": "code",
   "execution_count": 1,
   "id": "b73870d0-be53-4dbe-ba72-ca9acf082325",
   "metadata": {},
   "outputs": [
    {
     "name": "stdout",
     "output_type": "stream",
     "text": [
      "usage: mdx2.import_data [-h] [--outfile OUTFILE] [--chunks N N N] expt\n",
      "\n",
      "Import x-ray image data using the dxtbx machinery\n",
      "\n",
      "positional arguments:\n",
      "  expt               experiments file, such as from dials.import\n",
      "\n",
      "optional arguments:\n",
      "  -h, --help         show this help message and exit\n",
      "  --outfile OUTFILE  name of the output NeXus file (default: data.nxs)\n",
      "  --chunks N N N     chunking for compression (frames, y, x) (default: None)\n"
     ]
    }
   ],
   "source": [
    "!mdx2.import_data --help"
   ]
  },
  {
   "cell_type": "markdown",
   "id": "9ebce28d-2bdb-4896-af06-7598ce189e3f",
   "metadata": {
    "tags": []
   },
   "source": [
    "### Parameter choice\n",
    "\n",
    "We'll choose a \"chunk\" size of 20-by-211-by-493. Roughly, 211-by-493 corresponds to panel on the Pilatus 6M. And 20 means a stack of 20 frames (2 degrees).  The chunk size is not too important, but it does affect performance, especially memory use.\n",
    "\n",
    "Operations involving image data are time consuming to run. I suggest doing the tutorial first with the smaller dataset (refined_1_60.expt = first 60 frames).\n",
    "\n",
    "To re-run with the full image stack, delete all of the *.nxs files except geometry.nxs, and change the line below to:\n",
    "```\n",
    "!mdx2.import_data refined.expt --chunks 20 211 493\n",
    "```\n",
    "Note that in Jupyter you can re-run an entire notebook by clicking the double-arrow in the task bar (Restart Kernel and Run All Cells)"
   ]
  },
  {
   "cell_type": "code",
   "execution_count": 3,
   "id": "994e44e2-51cc-47ae-ab29-21cfa3dd4779",
   "metadata": {
    "scrolled": true,
    "tags": []
   },
   "outputs": [
    {
     "name": "stdout",
     "output_type": "stream",
     "text": [
      "Exporting <class 'mdx2.data.ImageSeries'> to nexus object\n",
      "  writing image_series to data.nxs\n",
      "ImageSet: reading frame 0\n",
      "ImageSet: reading frame 1\n",
      "ImageSet: reading frame 2\n",
      "ImageSet: reading frame 3\n",
      "ImageSet: reading frame 4\n",
      "ImageSet: reading frame 5\n",
      "ImageSet: reading frame 6\n",
      "ImageSet: reading frame 7\n",
      "ImageSet: reading frame 8\n",
      "ImageSet: reading frame 9\n",
      "ImageSet: reading frame 10\n",
      "ImageSet: reading frame 11\n",
      "ImageSet: reading frame 12\n",
      "ImageSet: reading frame 13\n",
      "ImageSet: reading frame 14\n",
      "ImageSet: reading frame 15\n",
      "ImageSet: reading frame 16\n",
      "ImageSet: reading frame 17\n",
      "ImageSet: reading frame 18\n",
      "ImageSet: reading frame 19\n",
      "ImageSet: reading frame 20\n",
      "ImageSet: reading frame 21\n",
      "ImageSet: reading frame 22\n",
      "ImageSet: reading frame 23\n",
      "ImageSet: reading frame 24\n",
      "ImageSet: reading frame 25\n",
      "ImageSet: reading frame 26\n",
      "ImageSet: reading frame 27\n",
      "ImageSet: reading frame 28\n",
      "ImageSet: reading frame 29\n",
      "ImageSet: reading frame 30\n",
      "ImageSet: reading frame 31\n",
      "ImageSet: reading frame 32\n",
      "ImageSet: reading frame 33\n",
      "ImageSet: reading frame 34\n",
      "ImageSet: reading frame 35\n",
      "ImageSet: reading frame 36\n",
      "ImageSet: reading frame 37\n",
      "ImageSet: reading frame 38\n",
      "ImageSet: reading frame 39\n",
      "ImageSet: reading frame 40\n",
      "ImageSet: reading frame 41\n",
      "ImageSet: reading frame 42\n",
      "ImageSet: reading frame 43\n",
      "ImageSet: reading frame 44\n",
      "ImageSet: reading frame 45\n",
      "ImageSet: reading frame 46\n",
      "ImageSet: reading frame 47\n",
      "ImageSet: reading frame 48\n",
      "ImageSet: reading frame 49\n",
      "ImageSet: reading frame 50\n",
      "ImageSet: reading frame 51\n",
      "ImageSet: reading frame 52\n",
      "ImageSet: reading frame 53\n",
      "ImageSet: reading frame 54\n",
      "ImageSet: reading frame 55\n",
      "ImageSet: reading frame 56\n",
      "ImageSet: reading frame 57\n",
      "ImageSet: reading frame 58\n",
      "ImageSet: reading frame 59\n",
      "done!\n"
     ]
    }
   ],
   "source": [
    "!mdx2.import_data refined_1_60.expt --chunks 20 211 493"
   ]
  },
  {
   "cell_type": "code",
   "execution_count": 4,
   "id": "8dcb0b96-351a-4637-9fc0-810a6a509bec",
   "metadata": {},
   "outputs": [
    {
     "name": "stdout",
     "output_type": "stream",
     "text": [
      "data.nxs: root:NXroot\n",
      "  @HDF5_Version = '1.10.6'\n",
      "  @file_name = '/Users/steve/Documents/GitHub/ando-lab/erice-2...'\n",
      "  @file_time = '2022-05-30T13:39:40.211700'\n",
      "  @h5py_version = '3.3.0'\n",
      "  @nexusformat_version = '0.7.5'\n",
      "  entry:NXentry\n",
      "    image_series:NXdata\n",
      "      @axes = ['phi', 'iy', 'ix']\n",
      "      @mdx2_class = 'ImageSeries'\n",
      "      @mdx2_module = 'mdx2.data'\n",
      "      @signal = 'data'\n",
      "      data = int32(60x2527x2463)\n",
      "      exposure_times = float64(60)\n",
      "      ix = float64(2463)\n",
      "      iy = float64(2527)\n",
      "      phi = float64(60)\n"
     ]
    }
   ],
   "source": [
    "!mdx2.tree data.nxs"
   ]
  },
  {
   "cell_type": "markdown",
   "id": "630b0fe0-2587-48d1-b82e-821769cd78e3",
   "metadata": {},
   "source": [
    "### Visualization in *nexpy*\n",
    "\n",
    "Open `data.nxs` using *nexpy*.\n",
    "\n",
    "<div class=\"alert alert-block alert-info\">\n",
    "    <b>Tip:</b> You might notice that the y-axis is flipped compared with the DIALS image viewer. You can flip it using a check box in the \"y\" tab.\n",
    "</div>"
   ]
  },
  {
   "cell_type": "markdown",
   "id": "02085ee9-9e02-4d53-9c31-5882e2ea18d3",
   "metadata": {},
   "source": [
    "## 2) Plot a rocking curve\n",
    "\n",
    "A rocking curve is a plot of the integrated intensity as a Bragg peak moves in and out of the diffraction condition.\n",
    "\n",
    "If peaks are close to the spindle axis in reciprocal space, they will move through the Ewald sphere slowly. We can use this to our advantage in order to get a very fine-sliced rocking curve.\n",
    "\n",
    "I already hunted through the image stack to find such a peak. We can plot it easily using NXdata.project()"
   ]
  },
  {
   "cell_type": "code",
   "execution_count": 7,
   "id": "5f1c0077-296f-440f-ba54-160e2736e51e",
   "metadata": {},
   "outputs": [
    {
     "data": {
      "image/png": "[encoded data removed]",
      "text/plain": [
       "<Figure size 432x288 with 2 Axes>"
      ]
     },
     "metadata": {
      "needs_background": "light"
     },
     "output_type": "display_data"
    }
   ],
   "source": [
    "image_series = nxload('data.nxs')['/entry/image_series']\n",
    "\n",
    "# the peak at its maximum intensity (frame 42)\n",
    "image_series.project((1,2),limits=((42,42),(1215,1225),(2080,2090))).plot()"
   ]
  },
  {
   "cell_type": "markdown",
   "id": "896073b3-3c68-43e5-9644-4369ef74d51c",
   "metadata": {},
   "source": [
    "We'll plot the rocking curve by summing counts in 2D within the ROI, again using the project() method."
   ]
  },
  {
   "cell_type": "code",
   "execution_count": 9,
   "id": "78e2a519-627a-4fd1-b162-4caf5e2a3c35",
   "metadata": {},
   "outputs": [
    {
     "data": {
      "image/png": "[encoded data removed]",
      "text/plain": [
       "<Figure size 432x288 with 1 Axes>"
      ]
     },
     "metadata": {
      "needs_background": "light"
     },
     "output_type": "display_data"
    }
   ],
   "source": [
    "image_series.project(0,limits=((20,60),(1215,1225),(2080,2090))).logplot()"
   ]
  },
  {
   "cell_type": "markdown",
   "id": "abd6977b-2b32-4c02-add1-686e8457c3e0",
   "metadata": {},
   "source": [
    "The y-axis is logarithmic in the above plot so that you can see the peak shape clearly.\n",
    "\n",
    "<div class=\"alert alert-block alert-info\">\n",
    "    <b>Questions:</b> What do you notice about the peak shape? Does the Bragg peak appear Gaussian? Is it symmetric? Do you see any diffuse scattering?\n",
    "</div>"
   ]
  },
  {
   "cell_type": "markdown",
   "id": "4a9c47e7-c66b-42f9-a810-76e356a04c1f",
   "metadata": {},
   "source": [
    "## 3) Estimate background scattering\n",
    "\n",
    "### Import images\n",
    "\n",
    "First, import the background image stack (50 frames)"
   ]
  },
  {
   "cell_type": "code",
   "execution_count": 12,
   "id": "9318a417-53ff-4df6-a563-73bcf3a3e199",
   "metadata": {
    "scrolled": true,
    "tags": []
   },
   "outputs": [
    {
     "name": "stdout",
     "output_type": "stream",
     "text": [
      "Exporting <class 'mdx2.data.ImageSeries'> to nexus object\n",
      "  writing image_series to bkg_data.nxs\n",
      "ImageSet: reading frame 0\n",
      "ImageSet: reading frame 1\n",
      "ImageSet: reading frame 2\n",
      "ImageSet: reading frame 3\n",
      "ImageSet: reading frame 4\n",
      "ImageSet: reading frame 5\n",
      "ImageSet: reading frame 6\n",
      "ImageSet: reading frame 7\n",
      "ImageSet: reading frame 8\n",
      "ImageSet: reading frame 9\n",
      "ImageSet: reading frame 10\n",
      "ImageSet: reading frame 11\n",
      "ImageSet: reading frame 12\n",
      "ImageSet: reading frame 13\n",
      "ImageSet: reading frame 14\n",
      "ImageSet: reading frame 15\n",
      "ImageSet: reading frame 16\n",
      "ImageSet: reading frame 17\n",
      "ImageSet: reading frame 18\n",
      "ImageSet: reading frame 19\n",
      "ImageSet: reading frame 20\n",
      "ImageSet: reading frame 21\n",
      "ImageSet: reading frame 22\n",
      "ImageSet: reading frame 23\n",
      "ImageSet: reading frame 24\n",
      "ImageSet: reading frame 25\n",
      "ImageSet: reading frame 26\n",
      "ImageSet: reading frame 27\n",
      "ImageSet: reading frame 28\n",
      "ImageSet: reading frame 29\n",
      "ImageSet: reading frame 30\n",
      "ImageSet: reading frame 31\n",
      "ImageSet: reading frame 32\n",
      "ImageSet: reading frame 33\n",
      "ImageSet: reading frame 34\n",
      "ImageSet: reading frame 35\n",
      "ImageSet: reading frame 36\n",
      "ImageSet: reading frame 37\n",
      "ImageSet: reading frame 38\n",
      "ImageSet: reading frame 39\n",
      "ImageSet: reading frame 40\n",
      "ImageSet: reading frame 41\n",
      "ImageSet: reading frame 42\n",
      "ImageSet: reading frame 43\n",
      "ImageSet: reading frame 44\n",
      "ImageSet: reading frame 45\n",
      "ImageSet: reading frame 46\n",
      "ImageSet: reading frame 47\n",
      "ImageSet: reading frame 48\n",
      "ImageSet: reading frame 49\n",
      "done!\n"
     ]
    }
   ],
   "source": [
    "!mdx2.import_data background.expt --outfile bkg_data.nxs --chunks 1 211 493"
   ]
  },
  {
   "cell_type": "code",
   "execution_count": 13,
   "id": "d5a85d93-f828-4c43-813d-515f0777c7d2",
   "metadata": {},
   "outputs": [
    {
     "name": "stdout",
     "output_type": "stream",
     "text": [
      "bkg_data.nxs: root:NXroot\n",
      "  @HDF5_Version = '1.10.6'\n",
      "  @file_name = '/Users/steve/Documents/GitHub/ando-lab/erice-2...'\n",
      "  @file_time = '2022-05-30T14:13:04.026536'\n",
      "  @h5py_version = '3.3.0'\n",
      "  @nexusformat_version = '0.7.5'\n",
      "  entry:NXentry\n",
      "    image_series:NXdata\n",
      "      @axes = ['phi', 'iy', 'ix']\n",
      "      @mdx2_class = 'ImageSeries'\n",
      "      @mdx2_module = 'mdx2.data'\n",
      "      @signal = 'data'\n",
      "      data = int32(50x2527x2463)\n",
      "      exposure_times = float64(50)\n",
      "      ix = float64(2463)\n",
      "      iy = float64(2527)\n",
      "      phi = float64(50)\n"
     ]
    }
   ],
   "source": [
    "!mdx2.tree bkg_data.nxs"
   ]
  },
  {
   "cell_type": "markdown",
   "id": "d448879e-c5a2-4dd5-a8c1-d989803cbc0e",
   "metadata": {},
   "source": [
    "#### Visualization in *nexpy*\n",
    "Open `bkg_data.nxs` using *nexpy*. \n",
    "\n",
    "<div class=\"alert alert-block alert-info\">\n",
    "    <b>Questions:</b> What features do you see? Does the background change as a function of phi?\n",
    "</div>"
   ]
  },
  {
   "cell_type": "markdown",
   "id": "02619320-28a1-4860-9db4-bd6774f9f5c4",
   "metadata": {},
   "source": [
    "### Downsampling\n",
    "\n",
    "Since the background scattering pattern is relatively smooth, we can improve the signal to noise by re-binning the image stack in both x-y direction and phi direction.\n",
    "\n",
    "#### *mdx2.bin_image_series*"
   ]
  },
  {
   "cell_type": "code",
   "execution_count": 15,
   "id": "629855a8-5281-4424-800c-ec1cbc7f0d1e",
   "metadata": {},
   "outputs": [
    {
     "name": "stdout",
     "output_type": "stream",
     "text": [
      "usage: mdx2.bin_image_series [-h] [--outfile OUTFILE] [--valid_range N N]\n",
      "                             data N N N\n",
      "\n",
      "Bin down an image stack\n",
      "\n",
      "positional arguments:\n",
      "  data               NeXus data file containing the image_series\n",
      "  N                  number per bin in each direction (frames, y, x)\n",
      "\n",
      "optional arguments:\n",
      "  -h, --help         show this help message and exit\n",
      "  --outfile OUTFILE  name of the output NeXus file (default: binned.nxs)\n",
      "  --valid_range N N  minimum and maximum valid data values (default: None)\n"
     ]
    }
   ],
   "source": [
    "!mdx2.bin_image_series --help"
   ]
  },
  {
   "cell_type": "markdown",
   "id": "1fc0215e-2b6c-4755-adf6-572e33d36910",
   "metadata": {},
   "source": [
    "#### Choosing parameters\n",
    "\n",
    "We'll choose to bin (average) every 10 frames and 20-by-20 block of pixels.\n",
    "\n",
    "In addition, we'll reject any pixels with more than 200 counts. The nominal count rate is around 20 counts per pixel. The threshold at 200 will mostly reject broken pixels and stray diffraction (e.g. from tiny salt crystals)."
   ]
  },
  {
   "cell_type": "code",
   "execution_count": 20,
   "id": "2b9a1150-c0a5-4472-8cdd-30bb001a428a",
   "metadata": {},
   "outputs": [
    {
     "name": "stdout",
     "output_type": "stream",
     "text": [
      "Reading image_series from bkg_data.nxs\n",
      "  importing as ImageSeries from mdx2.data\n",
      "binning frames 0 to 9\n",
      "binning frames 10 to 19\n",
      "binning frames 20 to 29\n",
      "binning frames 30 to 39\n",
      "binning frames 40 to 49\n",
      "saving to file: bkg_data_binned.nxs\n",
      "Exporting <class 'mdx2.geometry.GridData'> to nexus object\n",
      "  writing binned_image_series to bkg_data_binned.nxs\n"
     ]
    }
   ],
   "source": [
    "!mdx2.bin_image_series bkg_data.nxs 10 20 20 --valid_range 0 200 --outfile bkg_data_binned.nxs"
   ]
  },
  {
   "cell_type": "code",
   "execution_count": 21,
   "id": "98f741f0-7244-470a-a213-bb8c053ae613",
   "metadata": {},
   "outputs": [
    {
     "name": "stdout",
     "output_type": "stream",
     "text": [
      "bkg_data_binned.nxs: root:NXroot\n",
      "  @HDF5_Version = '1.10.6'\n",
      "  @file_name = '/Users/steve/Documents/GitHub/ando-lab/erice-2...'\n",
      "  @file_time = '2022-05-30T14:58:21.978633'\n",
      "  @h5py_version = '3.3.0'\n",
      "  @nexusformat_version = '0.7.5'\n",
      "  entry:NXentry\n",
      "    binned_image_series:NXdata\n",
      "      @axes = ['phi', 'iy', 'ix']\n",
      "      @mdx2_class = 'GridData'\n",
      "      @mdx2_module = 'mdx2.geometry'\n",
      "      @signal = 'signal'\n",
      "      ix = float64(124)\n",
      "      iy = float64(127)\n",
      "      phi = float64(5)\n",
      "      signal = float64(5x127x124)\n"
     ]
    }
   ],
   "source": [
    "!mdx2.tree bkg_data_binned.nxs"
   ]
  },
  {
   "cell_type": "markdown",
   "id": "e0eb68c0-2ddd-4590-bba9-85cda724e250",
   "metadata": {},
   "source": [
    "#### Visualization in *nexpy*\n",
    "Open `bkg_data_binned.nxs` in *nexpy*.\n",
    "\n",
    "<div class=\"alert alert-block alert-info\">\n",
    "    <b>Questions:</b> What new features can you see now that the signal to noise is improved?  Does the background change with spindle angle?\n",
    "</div>\n",
    "\n",
    "We'll use the downsampled background map in a later tutorial."
   ]
  },
  {
   "cell_type": "markdown",
   "id": "d7995dde-773c-4210-a30d-a7b73fea3ac7",
   "metadata": {},
   "source": [
    "## 4) Masking Bragg peaks\n",
    "\n",
    "### Background\n",
    "\n",
    "To map diffuse scattering we need to mask out the Bragg peaks. Designing a the perfect mask is a tricky problem, and different research have approached it multiple ways. \n",
    "\n",
    "As we saw previously with the rocking curve example, a Bragg peaks' extent in phi can vary depending on the distance from the spindle angle. And, Bragg peaks may not be perfectly symmetric Gaussian peaks. Peak width depends on crystal mosaicity, and this can even vary during a scan. In addition, the diffraction geometry may not be modeled exactly right, leading to further errors in peak position. A masking function must account for all of these effects.\n",
    "\n",
    "With *mdx2* we take a simple empirical approach. Here is the algorithm:\n",
    "\n",
    "1. List all of the pixels in the image stack above a certain count threshold (\"hot pixels\"). \n",
    "2. Index all of the hot pixels, converting their position in image space to (fractional) Miller index (h,k,l). \n",
    "3. Subtract the nearest integer from h,k,l leaving only the fractional part (dh, dk, dl) which varies from -0.5 to 0.5. Because peaks have finite extent, the values of dh,dk,dl will not all be zero, but will look like a cloud of points. \n",
    "4. Fit an anisotropic 3D Gaussian distribution to the cloud of points. Flag outliers beyond a certain sigma threshold (\"bad pixels\")\n",
    "5. Create a mask for **all** pixels in the image stack excluding outliers and pixels falling within the 3D Gaussian region according to a sigma threshold.\n",
    "\n",
    "### Hot pixels \n",
    "\n",
    "#### *mdx2.find_peaks*"
   ]
  },
  {
   "cell_type": "code",
   "execution_count": 23,
   "id": "b409dbf0-b77c-4d52-8769-3990488a500f",
   "metadata": {},
   "outputs": [
    {
     "name": "stdout",
     "output_type": "stream",
     "text": [
      "usage: mdx2.find_peaks [-h] --count_threshold THRESH [--sigma_cutoff SIGMA]\n",
      "                       [--outfile OUTFILE]\n",
      "                       geom data\n",
      "\n",
      "Find and analyze peaks in an image stack\n",
      "\n",
      "positional arguments:\n",
      "  geom                  NeXus file w/ miller_index\n",
      "  data                  NeXus file w/ image_series\n",
      "\n",
      "optional arguments:\n",
      "  -h, --help            show this help message and exit\n",
      "  --count_threshold THRESH\n",
      "                        pixels with counts above threshold are flagged as\n",
      "                        peaks (default: None)\n",
      "  --sigma_cutoff SIGMA  or outlier rejection in Gaussian peak fitting\n",
      "                        (default: 3)\n",
      "  --outfile OUTFILE     name of the output NeXus file (default: peaks.nxs)\n"
     ]
    }
   ],
   "source": [
    "!mdx2.find_peaks --help"
   ]
  },
  {
   "cell_type": "markdown",
   "id": "183b0e62-12c3-4fc9-b1f5-8003b53edd51",
   "metadata": {},
   "source": [
    "#### Parameters\n",
    "\n",
    "We need to choose a count threshold for \"hot\" pixels. In the fine-sliced images (0.1 second exposure) the background level is around 2 photons per pixel. So we'll choose a threshold of 20 (10x the background).\n",
    "\n",
    "The default value for sigma_cutoff works well here."
   ]
  },
  {
   "cell_type": "code",
   "execution_count": 25,
   "id": "f1293849-770e-4e1b-b0c1-2fa21f2b225e",
   "metadata": {
    "scrolled": true,
    "tags": []
   },
   "outputs": [
    {
     "name": "stdout",
     "output_type": "stream",
     "text": [
      "Reading miller_index from geometry.nxs\n",
      "  importing as MillerIndex from mdx2.geometry\n",
      "Reading image_series from data.nxs\n",
      "  importing as ImageSeries from mdx2.data\n",
      "finding pixels with counts above threshold: 20.0\n",
      "found 8 peaks in chunk 1\n",
      "found 22 peaks in chunk 2\n",
      "found 31 peaks in chunk 3\n",
      "found 67 peaks in chunk 6\n",
      "found 246 peaks in chunk 7\n",
      "found 80 peaks in chunk 8\n",
      "found 5 peaks in chunk 9\n",
      "found 4 peaks in chunk 10\n",
      "found 272 peaks in chunk 11\n",
      "found 683 peaks in chunk 12\n",
      "found 340 peaks in chunk 13\n",
      "found 19 peaks in chunk 14\n",
      "found 48 peaks in chunk 15\n",
      "found 474 peaks in chunk 16\n",
      "found 938 peaks in chunk 17\n",
      "found 638 peaks in chunk 18\n",
      "found 75 peaks in chunk 19\n",
      "found 77 peaks in chunk 20\n",
      "found 599 peaks in chunk 21\n",
      "found 967 peaks in chunk 22\n",
      "found 783 peaks in chunk 23\n",
      "found 123 peaks in chunk 24\n",
      "found 124 peaks in chunk 25\n",
      "found 434 peaks in chunk 26\n",
      "found 411 peaks in chunk 27\n",
      "found 632 peaks in chunk 28\n",
      "found 123 peaks in chunk 29\n",
      "found 90 peaks in chunk 30\n",
      "found 440 peaks in chunk 31\n",
      "found 286 peaks in chunk 32\n",
      "found 622 peaks in chunk 33\n",
      "found 73 peaks in chunk 34\n",
      "found 113 peaks in chunk 35\n",
      "found 702 peaks in chunk 36\n",
      "found 1165 peaks in chunk 37\n",
      "found 682 peaks in chunk 38\n",
      "found 119 peaks in chunk 39\n",
      "found 26 peaks in chunk 40\n",
      "found 486 peaks in chunk 41\n",
      "found 899 peaks in chunk 42\n",
      "found 523 peaks in chunk 43\n",
      "found 66 peaks in chunk 44\n",
      "found 20 peaks in chunk 45\n",
      "found 263 peaks in chunk 46\n",
      "found 640 peaks in chunk 47\n",
      "found 327 peaks in chunk 48\n",
      "found 13 peaks in chunk 49\n",
      "found 58 peaks in chunk 51\n",
      "found 172 peaks in chunk 52\n",
      "found 55 peaks in chunk 53\n",
      "found 4 peaks in chunk 54\n",
      "found 5 peaks in chunk 56\n",
      "found 15 peaks in chunk 57\n",
      "found 7 peaks in chunk 58\n",
      "found 1 peaks in chunk 59\n",
      "found 9 peaks in chunk 61\n",
      "found 10 peaks in chunk 62\n",
      "found 30 peaks in chunk 63\n",
      "found 1 peaks in chunk 65\n",
      "found 71 peaks in chunk 66\n",
      "found 218 peaks in chunk 67\n",
      "found 74 peaks in chunk 68\n",
      "found 5 peaks in chunk 70\n",
      "found 255 peaks in chunk 71\n",
      "found 671 peaks in chunk 72\n",
      "found 368 peaks in chunk 73\n",
      "found 9 peaks in chunk 74\n",
      "found 33 peaks in chunk 75\n",
      "found 499 peaks in chunk 76\n",
      "found 836 peaks in chunk 77\n",
      "found 538 peaks in chunk 78\n",
      "found 71 peaks in chunk 79\n",
      "found 88 peaks in chunk 80\n",
      "found 635 peaks in chunk 81\n",
      "found 967 peaks in chunk 82\n",
      "found 690 peaks in chunk 83\n",
      "found 132 peaks in chunk 84\n",
      "found 85 peaks in chunk 85\n",
      "found 538 peaks in chunk 86\n",
      "found 249 peaks in chunk 87\n",
      "found 425 peaks in chunk 88\n",
      "found 163 peaks in chunk 89\n",
      "found 39 peaks in chunk 90\n",
      "found 466 peaks in chunk 91\n",
      "found 508 peaks in chunk 92\n",
      "found 486 peaks in chunk 93\n",
      "found 166 peaks in chunk 94\n",
      "found 65 peaks in chunk 95\n",
      "found 513 peaks in chunk 96\n",
      "found 1016 peaks in chunk 97\n",
      "found 697 peaks in chunk 98\n",
      "found 117 peaks in chunk 99\n",
      "found 38 peaks in chunk 100\n",
      "found 502 peaks in chunk 101\n",
      "found 861 peaks in chunk 102\n",
      "found 513 peaks in chunk 103\n",
      "found 62 peaks in chunk 104\n",
      "found 9 peaks in chunk 105\n",
      "found 235 peaks in chunk 106\n",
      "found 536 peaks in chunk 107\n",
      "found 343 peaks in chunk 108\n",
      "found 12 peaks in chunk 109\n",
      "found 59 peaks in chunk 111\n",
      "found 160 peaks in chunk 112\n",
      "found 63 peaks in chunk 113\n",
      "found 4 peaks in chunk 114\n",
      "found 1 peaks in chunk 116\n",
      "found 15 peaks in chunk 117\n",
      "found 5 peaks in chunk 118\n",
      "found 3 peaks in chunk 121\n",
      "found 11 peaks in chunk 122\n",
      "found 24 peaks in chunk 123\n",
      "found 1 peaks in chunk 125\n",
      "found 48 peaks in chunk 126\n",
      "found 188 peaks in chunk 127\n",
      "found 44 peaks in chunk 128\n",
      "found 1 peaks in chunk 129\n",
      "found 10 peaks in chunk 130\n",
      "found 293 peaks in chunk 131\n",
      "found 569 peaks in chunk 132\n",
      "found 315 peaks in chunk 133\n",
      "found 20 peaks in chunk 134\n",
      "found 29 peaks in chunk 135\n",
      "found 385 peaks in chunk 136\n",
      "found 849 peaks in chunk 137\n",
      "found 584 peaks in chunk 138\n",
      "found 39 peaks in chunk 139\n",
      "found 67 peaks in chunk 140\n",
      "found 642 peaks in chunk 141\n",
      "found 866 peaks in chunk 142\n",
      "found 760 peaks in chunk 143\n",
      "found 124 peaks in chunk 144\n",
      "found 44 peaks in chunk 145\n",
      "found 575 peaks in chunk 146\n",
      "found 675 peaks in chunk 147\n",
      "found 421 peaks in chunk 148\n",
      "found 174 peaks in chunk 149\n",
      "found 129 peaks in chunk 150\n",
      "found 510 peaks in chunk 151\n",
      "found 459 peaks in chunk 152\n",
      "found 759 peaks in chunk 153\n",
      "found 119 peaks in chunk 154\n",
      "found 79 peaks in chunk 155\n",
      "found 510 peaks in chunk 156\n",
      "found 1021 peaks in chunk 157\n",
      "found 712 peaks in chunk 158\n",
      "found 116 peaks in chunk 159\n",
      "found 41 peaks in chunk 160\n",
      "found 514 peaks in chunk 161\n",
      "found 866 peaks in chunk 162\n",
      "found 484 peaks in chunk 163\n",
      "found 53 peaks in chunk 164\n",
      "found 12 peaks in chunk 165\n",
      "found 213 peaks in chunk 166\n",
      "found 495 peaks in chunk 167\n",
      "found 312 peaks in chunk 168\n",
      "found 10 peaks in chunk 169\n",
      "found 1 peaks in chunk 170\n",
      "found 47 peaks in chunk 171\n",
      "found 140 peaks in chunk 172\n",
      "found 91 peaks in chunk 173\n",
      "found 3 peaks in chunk 174\n",
      "found 2 peaks in chunk 176\n",
      "found 3 peaks in chunk 177\n",
      "found 2 peaks in chunk 178\n",
      "found 46720 peaks in total\n",
      "indexing peaks\n",
      "fitting Gaussian peak model\n",
      "652 peaks were rejected as outliers\n",
      "GaussianPeak model: r0 = [-0.03357  -0.006297  0.0043  ]\n",
      "sigma =\n",
      "[[-0.026371 -0.027567  0.003306]\n",
      " [-0.02725   0.022412  0.009936]\n",
      " [ 0.017783 -0.006536  0.020127]]\n",
      "Saving results to peaks.nxs\n",
      "Exporting <class 'mdx2.geometry.GaussianPeak'> to nexus object\n",
      "  writing peak_model to peaks.nxs\n",
      "Exporting <class 'mdx2.data.Peaks'> to nexus object\n",
      "  writing peaks to peaks.nxs\n",
      "Exporting <class 'mdx2.data.Peaks'> to nexus object\n",
      "  writing outliers to peaks.nxs\n",
      "done!\n"
     ]
    }
   ],
   "source": [
    "!mdx2.find_peaks geometry.nxs data.nxs --count_threshold 20"
   ]
  },
  {
   "cell_type": "markdown",
   "id": "1318c540-3abc-455c-b8e3-ec84b36188a7",
   "metadata": {
    "tags": []
   },
   "source": [
    "#### Peak model\n",
    "\n",
    "The output from *mdx2.find_peaks* above includes the $\\mathbf{r_0}$ and $\\sigma$ values for the anisotropic Gaussian function that fit the $\\mathbf{r}=(\\Delta h,\\Delta k,\\Delta l)$ point cloud.\n",
    "\n",
    "Specifically, the Gaussian function is:\n",
    "\n",
    "$p(\\mathbf{r}) \\propto \\exp\\left[ -\\tfrac{1}{2} \\left| \\mathbf{\\sigma}^{-1} (\\mathbf{r} - \\mathbf{r_0}) \\right|^2 \\right] $\n",
    "\n",
    "Find `sigma` and `r0` in the output above.\n",
    "- How anisotropic is the point cloud? (is the `sigma` matrix diagonal?)\n",
    "- What value of $\\Delta l$ represents a probability of one sigma?"
   ]
  },
  {
   "cell_type": "markdown",
   "id": "726b8e92-9dc0-4ccf-b4aa-c7db3233ff56",
   "metadata": {},
   "source": [
    "### Creating the mask\n",
    "\n",
    "The final step is to generate a mask for every pixel.\n",
    "\n",
    "#### *mdx2.mask_peaks*"
   ]
  },
  {
   "cell_type": "code",
   "execution_count": 28,
   "id": "62b46a53-03b2-481d-b4fd-809958939a1b",
   "metadata": {},
   "outputs": [
    {
     "name": "stdout",
     "output_type": "stream",
     "text": [
      "usage: mdx2.mask_peaks [-h] [--sigma_cutoff SIGMA] [--outfile OUTFILE]\n",
      "                       geom data peaks\n",
      "\n",
      "Create a peak mask for in an image stack\n",
      "\n",
      "positional arguments:\n",
      "  geom                  NeXus file w/ miller_index\n",
      "  data                  NeXus file w/ image_series\n",
      "  peaks                 NeXus file w/ peak_model and peaks\n",
      "\n",
      "optional arguments:\n",
      "  -h, --help            show this help message and exit\n",
      "  --sigma_cutoff SIGMA  \\sigma value to draw the peak mask (default: 3)\n",
      "  --outfile OUTFILE     name of the output NeXus file (default: mask.nxs)\n"
     ]
    }
   ],
   "source": [
    "!mdx2.mask_peaks --help"
   ]
  },
  {
   "cell_type": "markdown",
   "id": "b2935cf6-d092-46f9-a50c-36ecd8bb9325",
   "metadata": {},
   "source": [
    "#### Parameters\n",
    "\n",
    "The only parameter we need to choose is the `sigma_cutoff`. The default value of 3 works well in this case.\n",
    "\n",
    "Note that our masking approach is robust but kind of slow, because it is necessary to compute Miller indices for all of the pixels in the image stack. Be patient."
   ]
  },
  {
   "cell_type": "code",
   "execution_count": 29,
   "id": "40277947-9a4a-421a-ad89-8b20b8dedd9c",
   "metadata": {
    "scrolled": true,
    "tags": []
   },
   "outputs": [
    {
     "name": "stdout",
     "output_type": "stream",
     "text": [
      "Reading miller_index from geometry.nxs\n",
      "  importing as MillerIndex from mdx2.geometry\n",
      "Reading image_series from data.nxs\n",
      "  importing as ImageSeries from mdx2.data\n",
      "Reading peak_model from peaks.nxs\n",
      "  importing as GaussianPeak from mdx2.geometry\n",
      "Reading peaks from peaks.nxs\n",
      "  importing as Peaks from mdx2.data\n",
      "masking peaks with sigma above threshold: 3.0\n",
      "indexing chunk 0\n",
      "indexing chunk 1\n",
      "indexing chunk 2\n",
      "indexing chunk 3\n",
      "indexing chunk 4\n",
      "indexing chunk 5\n",
      "indexing chunk 6\n",
      "indexing chunk 7\n",
      "indexing chunk 8\n",
      "indexing chunk 9\n",
      "indexing chunk 10\n",
      "indexing chunk 11\n",
      "indexing chunk 12\n",
      "indexing chunk 13\n",
      "indexing chunk 14\n",
      "indexing chunk 15\n",
      "indexing chunk 16\n",
      "indexing chunk 17\n",
      "indexing chunk 18\n",
      "indexing chunk 19\n",
      "indexing chunk 20\n",
      "indexing chunk 21\n",
      "indexing chunk 22\n",
      "indexing chunk 23\n",
      "indexing chunk 24\n",
      "indexing chunk 25\n",
      "indexing chunk 26\n",
      "indexing chunk 27\n",
      "indexing chunk 28\n",
      "indexing chunk 29\n",
      "indexing chunk 30\n",
      "indexing chunk 31\n",
      "indexing chunk 32\n",
      "indexing chunk 33\n",
      "indexing chunk 34\n",
      "indexing chunk 35\n",
      "indexing chunk 36\n",
      "indexing chunk 37\n",
      "indexing chunk 38\n",
      "indexing chunk 39\n",
      "indexing chunk 40\n",
      "indexing chunk 41\n",
      "indexing chunk 42\n",
      "indexing chunk 43\n",
      "indexing chunk 44\n",
      "indexing chunk 45\n",
      "indexing chunk 46\n",
      "indexing chunk 47\n",
      "indexing chunk 48\n",
      "indexing chunk 49\n",
      "indexing chunk 50\n",
      "indexing chunk 51\n",
      "indexing chunk 52\n",
      "indexing chunk 53\n",
      "indexing chunk 54\n",
      "indexing chunk 55\n",
      "indexing chunk 56\n",
      "indexing chunk 57\n",
      "indexing chunk 58\n",
      "indexing chunk 59\n",
      "indexing chunk 60\n",
      "indexing chunk 61\n",
      "indexing chunk 62\n",
      "indexing chunk 63\n",
      "indexing chunk 64\n",
      "indexing chunk 65\n",
      "indexing chunk 66\n",
      "indexing chunk 67\n",
      "indexing chunk 68\n",
      "indexing chunk 69\n",
      "indexing chunk 70\n",
      "indexing chunk 71\n",
      "indexing chunk 72\n",
      "indexing chunk 73\n",
      "indexing chunk 74\n",
      "indexing chunk 75\n",
      "indexing chunk 76\n",
      "indexing chunk 77\n",
      "indexing chunk 78\n",
      "indexing chunk 79\n",
      "indexing chunk 80\n",
      "indexing chunk 81\n",
      "indexing chunk 82\n",
      "indexing chunk 83\n",
      "indexing chunk 84\n",
      "indexing chunk 85\n",
      "indexing chunk 86\n",
      "indexing chunk 87\n",
      "indexing chunk 88\n",
      "indexing chunk 89\n",
      "indexing chunk 90\n",
      "indexing chunk 91\n",
      "indexing chunk 92\n",
      "indexing chunk 93\n",
      "indexing chunk 94\n",
      "indexing chunk 95\n",
      "indexing chunk 96\n",
      "indexing chunk 97\n",
      "indexing chunk 98\n",
      "indexing chunk 99\n",
      "indexing chunk 100\n",
      "indexing chunk 101\n",
      "indexing chunk 102\n",
      "indexing chunk 103\n",
      "indexing chunk 104\n",
      "indexing chunk 105\n",
      "indexing chunk 106\n",
      "indexing chunk 107\n",
      "indexing chunk 108\n",
      "indexing chunk 109\n",
      "indexing chunk 110\n",
      "indexing chunk 111\n",
      "indexing chunk 112\n",
      "indexing chunk 113\n",
      "indexing chunk 114\n",
      "indexing chunk 115\n",
      "indexing chunk 116\n",
      "indexing chunk 117\n",
      "indexing chunk 118\n",
      "indexing chunk 119\n",
      "indexing chunk 120\n",
      "indexing chunk 121\n",
      "indexing chunk 122\n",
      "indexing chunk 123\n",
      "indexing chunk 124\n",
      "indexing chunk 125\n",
      "indexing chunk 126\n",
      "indexing chunk 127\n",
      "indexing chunk 128\n",
      "indexing chunk 129\n",
      "indexing chunk 130\n",
      "indexing chunk 131\n",
      "indexing chunk 132\n",
      "indexing chunk 133\n",
      "indexing chunk 134\n",
      "indexing chunk 135\n",
      "indexing chunk 136\n",
      "indexing chunk 137\n",
      "indexing chunk 138\n",
      "indexing chunk 139\n",
      "indexing chunk 140\n",
      "indexing chunk 141\n",
      "indexing chunk 142\n",
      "indexing chunk 143\n",
      "indexing chunk 144\n",
      "indexing chunk 145\n",
      "indexing chunk 146\n",
      "indexing chunk 147\n",
      "indexing chunk 148\n",
      "indexing chunk 149\n",
      "indexing chunk 150\n",
      "indexing chunk 151\n",
      "indexing chunk 152\n",
      "indexing chunk 153\n",
      "indexing chunk 154\n",
      "indexing chunk 155\n",
      "indexing chunk 156\n",
      "indexing chunk 157\n",
      "indexing chunk 158\n",
      "indexing chunk 159\n",
      "indexing chunk 160\n",
      "indexing chunk 161\n",
      "indexing chunk 162\n",
      "indexing chunk 163\n",
      "indexing chunk 164\n",
      "indexing chunk 165\n",
      "indexing chunk 166\n",
      "indexing chunk 167\n",
      "indexing chunk 168\n",
      "indexing chunk 169\n",
      "indexing chunk 170\n",
      "indexing chunk 171\n",
      "indexing chunk 172\n",
      "indexing chunk 173\n",
      "indexing chunk 174\n",
      "indexing chunk 175\n",
      "indexing chunk 176\n",
      "indexing chunk 177\n",
      "indexing chunk 178\n",
      "indexing chunk 179\n",
      "masking count threshold peaks\n",
      "Saving mask to mask.nxs\n",
      "Exporting <class 'mdx2.geometry.GridData'> to nexus object\n",
      "  writing mask to mask.nxs\n",
      "done!\n"
     ]
    }
   ],
   "source": [
    "!mdx2.mask_peaks geometry.nxs data.nxs peaks.nxs --sigma_cutoff 3"
   ]
  },
  {
   "cell_type": "markdown",
   "id": "d67b6829-c6fd-4ae7-8eff-a5120119d1f1",
   "metadata": {},
   "source": [
    "#### Visualization in *nexpy*"
   ]
  },
  {
   "cell_type": "markdown",
   "id": "f832e77f-6f03-4f0a-98e8-6325e72c0513",
   "metadata": {},
   "source": [
    "In *nexpy* open `mask.nxs`, and double-click the object in the tree to plot it.\n",
    "\n",
    "<div class=\"alert alert-block alert-info\">\n",
    "    <b>Question 1:</b> Zoom on on some Bragg peaks. How does the mask shape look in different regions of the detector?\n",
    "</div>\n",
    "\n",
    "<div class=\"alert alert-block alert-info\">\n",
    "    <b>Question 2:</b> Scroll through the image stack by changing the z-slice (phi). Compare peaks near the spindle axis with peaks far away. Does the mask account for the different rates that peaks move through the Ewald sphere?\n",
    "</div>\n",
    "\n",
    "Note: The current version of *mdx2* does not account for systematic absences. This is a particular issue with cubic insulin, because for space group $\\textrm{I}2_13$ the reflection condition is $h + k + l = 2n$. So we're masking about twice as many spots as necessary. But our Bragg peak mask is pretty tight, so we're not losing a lot of pixels."
   ]
  },
  {
   "cell_type": "code",
   "execution_count": null,
   "id": "f7579edd-26da-4573-b3a7-29fd4008487d",
   "metadata": {},
   "outputs": [],
   "source": []
  }
 ],
 "metadata": {
  "kernelspec": {
   "display_name": "Python 3 (ipykernel)",
   "language": "python",
   "name": "python3"
  },
  "language_info": {
   "codemirror_mode": {
    "name": "ipython",
    "version": 3
   },
   "file_extension": ".py",
   "mimetype": "text/x-python",
   "name": "python",
   "nbconvert_exporter": "python",
   "pygments_lexer": "ipython3",
   "version": "3.9.12"
  }
 },
 "nbformat": 4,
 "nbformat_minor": 5
}
